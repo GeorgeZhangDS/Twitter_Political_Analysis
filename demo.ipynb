{
 "cells": [
  {
   "cell_type": "markdown",
   "metadata": {},
   "source": [
    "### Imports"
   ]
  },
  {
   "cell_type": "code",
   "execution_count": 1,
   "metadata": {},
   "outputs": [
    {
     "name": "stderr",
     "output_type": "stream",
     "text": [
      "/Users/haoyufu/opt/anaconda3/lib/python3.9/site-packages/pandas/core/computation/expressions.py:21: UserWarning: Pandas requires version '2.8.4' or newer of 'numexpr' (version '2.7.3' currently installed).\n",
      "  from pandas.core.computation.check import NUMEXPR_INSTALLED\n",
      "/Users/haoyufu/opt/anaconda3/lib/python3.9/site-packages/pandas/core/arrays/masked.py:60: UserWarning: Pandas requires version '1.3.6' or newer of 'bottleneck' (version '1.3.2' currently installed).\n",
      "  from pandas.core import (\n"
     ]
    }
   ],
   "source": [
    "import pandas as pd"
   ]
  },
  {
   "cell_type": "markdown",
   "metadata": {},
   "source": [
    "### Run the Data Cleaning module"
   ]
  },
  {
   "cell_type": "code",
   "execution_count": 10,
   "metadata": {},
   "outputs": [],
   "source": [
    "%run data_cleaning.py"
   ]
  },
  {
   "cell_type": "markdown",
   "metadata": {},
   "source": [
    "### Run the code that replicates the paper"
   ]
  },
  {
   "cell_type": "code",
   "execution_count": 26,
   "metadata": {},
   "outputs": [
    {
     "data": {
      "application/vnd.jupyter.widget-view+json": {
       "model_id": "2bc7d37d93474d5293a97418a1a4202f",
       "version_major": 2,
       "version_minor": 0
      },
      "text/plain": [
       "  0%|          | 0/28 [00:00<?, ?it/s]"
      ]
     },
     "metadata": {},
     "output_type": "display_data"
    },
    {
     "name": "stdout",
     "output_type": "stream",
     "text": [
      "Epoch 1/10\n",
      "4989/4989 [==============================] - 19s 3ms/step - loss: 282601.0625 - auc_2: 0.5009 - binary_accuracy: 0.5020 - val_loss: 115.1250 - val_auc_2: 0.5110 - val_binary_accuracy: 0.5070\n",
      "Epoch 2/10\n",
      "4989/4989 [==============================] - 17s 3ms/step - loss: 291.7167 - auc_2: 0.5025 - binary_accuracy: 0.5040 - val_loss: 6.0404 - val_auc_2: 0.5470 - val_binary_accuracy: 0.5325\n",
      "Epoch 3/10\n",
      "4989/4989 [==============================] - 16s 3ms/step - loss: 16.0578 - auc_2: 0.5055 - binary_accuracy: 0.5046 - val_loss: 1.5723 - val_auc_2: 0.5960 - val_binary_accuracy: 0.5823\n",
      "Epoch 4/10\n",
      "4989/4989 [==============================] - 16s 3ms/step - loss: 3.9121 - auc_2: 0.5278 - binary_accuracy: 0.5193 - val_loss: 0.7464 - val_auc_2: 0.6169 - val_binary_accuracy: 0.6042\n",
      "Epoch 5/10\n",
      "4989/4989 [==============================] - 17s 3ms/step - loss: 1.6270 - auc_2: 0.5238 - binary_accuracy: 0.5197 - val_loss: 0.7469 - val_auc_2: 0.4750 - val_binary_accuracy: 0.4856\n",
      "Epoch 6/10\n",
      "4989/4989 [==============================] - 17s 4ms/step - loss: 1.0906 - auc_2: 0.5267 - binary_accuracy: 0.5238 - val_loss: 0.6993 - val_auc_2: 0.5595 - val_binary_accuracy: 0.5160\n",
      "Epoch 7/10\n",
      "4989/4989 [==============================] - 17s 3ms/step - loss: 0.9273 - auc_2: 0.5340 - binary_accuracy: 0.5304 - val_loss: 0.7047 - val_auc_2: 0.5185 - val_binary_accuracy: 0.5072\n",
      "Epoch 8/10\n",
      "4989/4989 [==============================] - 17s 3ms/step - loss: 0.7921 - auc_2: 0.5299 - binary_accuracy: 0.5244 - val_loss: 0.6985 - val_auc_2: 0.5554 - val_binary_accuracy: 0.4860\n",
      "Epoch 9/10\n",
      "4989/4989 [==============================] - 17s 3ms/step - loss: 0.7591 - auc_2: 0.5308 - binary_accuracy: 0.5270 - val_loss: 0.6936 - val_auc_2: 0.5665 - val_binary_accuracy: 0.5178\n",
      "Epoch 10/10\n",
      "4989/4989 [==============================] - 18s 4ms/step - loss: 0.7791 - auc_2: 0.5247 - binary_accuracy: 0.5228 - val_loss: 0.6854 - val_auc_2: 0.6256 - val_binary_accuracy: 0.5706\n",
      "139/139 [==============================] - 0s 2ms/step\n",
      "ROC AUC Score: 0.627\n",
      "Accuracy Score: 0.571\n"
     ]
    }
   ],
   "source": [
    "%run paper_replication.py"
   ]
  },
  {
   "cell_type": "markdown",
   "metadata": {},
   "source": [
    "We should see that the accuracy of the code is floating around 55%, which is just a little bit higher than a 50%/50% guess. This is possibly due to the small data size and the performance of GPT2 model. In the upcoming weeks, we will try larger dataset and more language models to improve the accuracy."
   ]
  },
  {
   "cell_type": "markdown",
   "metadata": {},
   "source": [
    "### Run the code that make Twitter predictions"
   ]
  },
  {
   "cell_type": "code",
   "execution_count": 6,
   "metadata": {},
   "outputs": [
    {
     "data": {
      "application/vnd.jupyter.widget-view+json": {
       "model_id": "4d159dd4d67c49e5b8d5700312aab477",
       "version_major": 2,
       "version_minor": 0
      },
      "text/plain": [
       "  0%|          | 0/1 [00:00<?, ?it/s]"
      ]
     },
     "metadata": {},
     "output_type": "display_data"
    },
    {
     "name": "stdout",
     "output_type": "stream",
     "text": [
      "Epoch 1/10\n",
      "2/2 [==============================] - 2s 323ms/step - loss: 35138764.0000 - auc_4: 0.5250 - binary_accuracy: 0.5556 - val_loss: 0.0000e+00 - val_auc_4: 0.0000e+00 - val_binary_accuracy: 1.0000\n",
      "Epoch 2/10\n",
      "2/2 [==============================] - 0s 35ms/step - loss: 52510764.0000 - auc_4: 0.4000 - binary_accuracy: 0.4444 - val_loss: 0.0000e+00 - val_auc_4: 0.0000e+00 - val_binary_accuracy: 1.0000\n",
      "Epoch 3/10\n",
      "2/2 [==============================] - 0s 41ms/step - loss: 48276976.0000 - auc_4: 0.5250 - binary_accuracy: 0.5556 - val_loss: 0.0000e+00 - val_auc_4: 0.0000e+00 - val_binary_accuracy: 1.0000\n",
      "Epoch 4/10\n",
      "2/2 [==============================] - 0s 39ms/step - loss: 16388132.0000 - auc_4: 0.6500 - binary_accuracy: 0.6667 - val_loss: 0.0000e+00 - val_auc_4: 0.0000e+00 - val_binary_accuracy: 1.0000\n",
      "Epoch 5/10\n",
      "2/2 [==============================] - 0s 39ms/step - loss: 11994001.0000 - auc_4: 0.6750 - binary_accuracy: 0.6667 - val_loss: 0.0000e+00 - val_auc_4: 0.0000e+00 - val_binary_accuracy: 1.0000\n",
      "Epoch 6/10\n",
      "2/2 [==============================] - 0s 40ms/step - loss: 28458850.0000 - auc_4: 0.5250 - binary_accuracy: 0.5556 - val_loss: 0.0000e+00 - val_auc_4: 0.0000e+00 - val_binary_accuracy: 1.0000\n",
      "Epoch 7/10\n",
      "2/2 [==============================] - 0s 41ms/step - loss: 15469966.0000 - auc_4: 0.6250 - binary_accuracy: 0.6667 - val_loss: 0.0000e+00 - val_auc_4: 0.0000e+00 - val_binary_accuracy: 1.0000\n",
      "Epoch 8/10\n",
      "2/2 [==============================] - 0s 40ms/step - loss: 30883506.0000 - auc_4: 0.4250 - binary_accuracy: 0.4444 - val_loss: 0.0000e+00 - val_auc_4: 0.0000e+00 - val_binary_accuracy: 1.0000\n",
      "Epoch 9/10\n",
      "2/2 [==============================] - 0s 39ms/step - loss: 5706090.0000 - auc_4: 0.6500 - binary_accuracy: 0.6667 - val_loss: 0.0000e+00 - val_auc_4: 0.0000e+00 - val_binary_accuracy: 1.0000\n",
      "Epoch 10/10\n",
      "2/2 [==============================] - 0s 39ms/step - loss: 6612239.5000 - auc_4: 0.6250 - binary_accuracy: 0.6667 - val_loss: 0.0000e+00 - val_auc_4: 0.0000e+00 - val_binary_accuracy: 1.0000\n",
      "WARNING:tensorflow:5 out of the last 5 calls to <function Model.make_predict_function.<locals>.predict_function at 0x7faa0fba2670> triggered tf.function retracing. Tracing is expensive and the excessive number of tracings could be due to (1) creating @tf.function repeatedly in a loop, (2) passing tensors with different shapes, (3) passing Python objects instead of tensors. For (1), please define your @tf.function outside of the loop. For (2), @tf.function has reduce_retracing=True option that can avoid unnecessary retracing. For (3), please refer to https://www.tensorflow.org/guide/function#controlling_retracing and https://www.tensorflow.org/api_docs/python/tf/function for  more details.\n",
      "1/1 [==============================] - 0s 154ms/step\n",
      "Accuracy Score: 1.000\n"
     ]
    }
   ],
   "source": [
    "%run tweets_prediction.py"
   ]
  },
  {
   "cell_type": "markdown",
   "metadata": {},
   "source": [
    "The accuracy score of our model "
   ]
  }
 ],
 "metadata": {
  "kernelspec": {
   "display_name": "base",
   "language": "python",
   "name": "python3"
  },
  "language_info": {
   "codemirror_mode": {
    "name": "ipython",
    "version": 3
   },
   "file_extension": ".py",
   "mimetype": "text/x-python",
   "name": "python",
   "nbconvert_exporter": "python",
   "pygments_lexer": "ipython3",
   "version": "3.9.7"
  }
 },
 "nbformat": 4,
 "nbformat_minor": 2
}
